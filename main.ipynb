{
 "cells": [
  {
   "cell_type": "code",
   "execution_count": 1,
   "id": "611eda37",
   "metadata": {},
   "outputs": [],
   "source": [
    "import re\n",
    "from collections import defaultdict\n",
    "\n",
    "import os\n",
    "import matplotlib.pyplot as plt"
   ]
  },
  {
   "cell_type": "code",
   "execution_count": null,
   "id": "df64eddc",
   "metadata": {},
   "outputs": [],
   "source": [
    "def parse_latency_data(filepath):\n",
    "    # Mapping: (algo, n, ppn) → { size → latency }\n",
    "    raw_data = defaultdict(dict)\n",
    "    message_sizes = set()\n",
    "\n",
    "    with open(filepath, 'r') as f:\n",
    "        lines = f.readlines()\n",
    "\n",
    "    current_key = None\n",
    "    reading_data = False\n",
    "\n",
    "    for line in lines:\n",
    "        line = line.strip()\n",
    "\n",
    "        match = re.match(r\"running (\\S+) w/ n=(\\d+) and ppn=(\\d+)\", line)\n",
    "        if match:\n",
    "            algo, n, ppn = match.groups()\n",
    "            current_key = (algo, int(n), int(ppn))\n",
    "            reading_data = False\n",
    "            continue\n",
    "\n",
    "        if line.startswith(\"# Size\"):\n",
    "            reading_data = True\n",
    "            continue\n",
    "\n",
    "        if reading_data and line:\n",
    "            parts = line.split()\n",
    "            if len(parts) == 2:\n",
    "                try:\n",
    "                    size = int(parts[0])\n",
    "                    latency = float(parts[1])\n",
    "                    raw_data[current_key][size] = latency\n",
    "                    message_sizes.add(size)\n",
    "                except ValueError:\n",
    "                    continue\n",
    "\n",
    "    return sorted(message_sizes), raw_data\n",
    "\n",
    "def group_by_n_ppn(raw_data):\n",
    "    # Mapping: (n, ppn) → { algo → { size → latency } }\n",
    "    grouped = defaultdict(lambda: defaultdict(dict))\n",
    "    for (algo, n, ppn), size_to_latency in raw_data.items():\n",
    "        grouped[(n, ppn)][algo] = size_to_latency\n",
    "    return grouped\n",
    "\n",
    "def plot_data(sizes, data, title=\"perf\", outdir=\"plots\"):\n",
    "    true_out = f'{outdir}/{title}'\n",
    "    os.makedirs(true_out, exist_ok=True)\n",
    "\n",
    "    grouped_data = group_by_n_ppn(data)\n",
    "\n",
    "    for (n, ppn), algo_dict in grouped_data.items():\n",
    "        plt.figure(figsize=(10, 6))\n",
    "\n",
    "        for algo, size_to_latency in algo_dict.items():\n",
    "            x = [size for size in sizes if size in size_to_latency]\n",
    "            y = [size_to_latency[size] for size in x]\n",
    "            plt.plot(x, y, marker='o', label=algo)\n",
    "\n",
    "        plt.title(f\"{title} Latency (n={n}, ppn={ppn})\")\n",
    "        plt.xlabel(\"Message Size (bytes)\")\n",
    "        plt.ylabel(\"Avg Latency (us)\")\n",
    "        plt.xscale(\"log\")\n",
    "        plt.yscale(\"log\")\n",
    "        plt.grid(True, which=\"both\", ls=\"--\", lw=0.5)\n",
    "        plt.legend()\n",
    "        plt.tight_layout()\n",
    "\n",
    "        filename = f\"n{n}_ppn{ppn}.png\"\n",
    "        plt.savefig(os.path.join(true_out, filename))\n",
    "        plt.close()"
   ]
  },
  {
   "cell_type": "code",
   "execution_count": null,
   "id": "925ade8e",
   "metadata": {},
   "outputs": [],
   "source": [
    "filepath = \"ar.out\"\n",
    "sizes, ar = parse_latency_data(filepath)\n",
    "plot_data(sizes, ar, title=\"AllRed\")"
   ]
  },
  {
   "cell_type": "code",
   "execution_count": null,
   "id": "8b389df4",
   "metadata": {},
   "outputs": [],
   "source": [
    "filepath = \"bc.out\"\n",
    "sizes, bc = parse_latency_data(filepath)\n",
    "plot_data(sizes, bc, title=\"BCast\")"
   ]
  }
 ],
 "metadata": {
  "kernelspec": {
   "display_name": "venv",
   "language": "python",
   "name": "python3"
  },
  "language_info": {
   "codemirror_mode": {
    "name": "ipython",
    "version": 3
   },
   "file_extension": ".py",
   "mimetype": "text/x-python",
   "name": "python",
   "nbconvert_exporter": "python",
   "pygments_lexer": "ipython3",
   "version": "3.10.12"
  }
 },
 "nbformat": 4,
 "nbformat_minor": 5
}
